{
 "cells": [
  {
   "cell_type": "markdown",
   "id": "67c54b8b",
   "metadata": {},
   "source": [
    "# Terms to Know\n",
    "\n",
    "- In scalecast, when reading documentation, it is helpful to know the following terms: `_estimators_`, `_can_be_tuned_`, `_cannot_be_tuned_`, `_sklearn_estimators_`, `_metrics_`, `_determine_best_by_`, `_normalizer_`, `_optimizer_funcs_`."
   ]
  },
  {
   "cell_type": "markdown",
   "id": "343236a8",
   "metadata": {},
   "source": [
    "## `_estimators_`\n",
    "- These are the the models that forecast and can be set by using `f.set_estimator(...)`.\n",
    "- They come from popular machine learning libraries like scikit-learn, keras, statsmodels, and others.\n",
    "- More estimators can be added, assuming they follow a basic sklearn API, by using the `Forecaster.add_sklearn_estimator()` function."
   ]
  },
  {
   "cell_type": "code",
   "execution_count": 1,
   "id": "d0caf64a",
   "metadata": {},
   "outputs": [
    {
     "name": "stdout",
     "output_type": "stream",
     "text": [
      "arima\n",
      "combo\n",
      "elasticnet\n",
      "gbt\n",
      "hwes\n",
      "knn\n",
      "lasso\n",
      "lightgbm\n",
      "lstm\n",
      "mlp\n",
      "mlr\n",
      "prophet\n",
      "rf\n",
      "ridge\n",
      "rnn\n",
      "sgd\n",
      "silverkite\n",
      "svr\n",
      "theta\n",
      "xgboost\n"
     ]
    }
   ],
   "source": [
    "from scalecast.Forecaster import _estimators_\n",
    "print(*_estimators_,sep='\\n')"
   ]
  },
  {
   "cell_type": "markdown",
   "id": "86dbb4b1",
   "metadata": {},
   "source": [
    "### `_can_be_tuned_`\n",
    "- The following estimators can be tuned using a grid search and cross validation."
   ]
  },
  {
   "cell_type": "code",
   "execution_count": 2,
   "id": "261769c1",
   "metadata": {},
   "outputs": [
    {
     "name": "stdout",
     "output_type": "stream",
     "text": [
      "arima\n",
      "elasticnet\n",
      "gbt\n",
      "hwes\n",
      "knn\n",
      "lasso\n",
      "lightgbm\n",
      "mlp\n",
      "mlr\n",
      "prophet\n",
      "rf\n",
      "ridge\n",
      "sgd\n",
      "silverkite\n",
      "svr\n",
      "theta\n",
      "xgboost\n"
     ]
    }
   ],
   "source": [
    "from scalecast.Forecaster import _can_be_tuned_\n",
    "print(*_can_be_tuned_,sep='\\n')"
   ]
  },
  {
   "cell_type": "markdown",
   "id": "023f7a0f",
   "metadata": {},
   "source": [
    "### `_cannot_be_tuned_`\n",
    "- The following cannot be tuned."
   ]
  },
  {
   "cell_type": "code",
   "execution_count": 3,
   "id": "17de063c",
   "metadata": {},
   "outputs": [
    {
     "name": "stdout",
     "output_type": "stream",
     "text": [
      "combo\n",
      "rnn\n",
      "lstm\n"
     ]
    }
   ],
   "source": [
    "from scalecast.Forecaster import _cannot_be_tuned_\n",
    "print(*_cannot_be_tuned_,sep='\\n')"
   ]
  },
  {
   "cell_type": "markdown",
   "id": "c2d33c34",
   "metadata": {},
   "source": [
    "### `_sklearn_estimators_`\n",
    "- These all come from scikit-learn or use a basic scikit-learn API and behave similarly, including accepting a `normalizer` argument, and accepting an `Xvars` argument, and offering different recursive evaluation lengths."
   ]
  },
  {
   "cell_type": "code",
   "execution_count": 4,
   "id": "17368c9c",
   "metadata": {},
   "outputs": [
    {
     "name": "stdout",
     "output_type": "stream",
     "text": [
      "elasticnet\n",
      "gbt\n",
      "knn\n",
      "lasso\n",
      "lightgbm\n",
      "mlp\n",
      "mlr\n",
      "rf\n",
      "ridge\n",
      "sgd\n",
      "svr\n",
      "xgboost\n"
     ]
    }
   ],
   "source": [
    "from scalecast.Forecaster import _sklearn_estimators_\n",
    "print(*_sklearn_estimators_,sep='\\n')"
   ]
  },
  {
   "cell_type": "markdown",
   "id": "431b6ff5",
   "metadata": {},
   "source": [
    "- Add any other sklearn estimator to the `Forecaster` ([docs](https://scalecast.readthedocs.io/en/latest/Forecaster/Forecaster.html#src.scalecast.Forecaster.Forecaster.add_sklearn_estimator)) and `MVForecaster` ([docs](https://scalecast.readthedocs.io/en/latest/Forecaster/MVForecaster.html#src.scalecast.MVForecaster.MVForecaster.add_sklearn_estimator)) classes."
   ]
  },
  {
   "cell_type": "markdown",
   "id": "28c9927d",
   "metadata": {},
   "source": [
    "## `_metrics_`\n",
    "- These are all the metrics available for use when optimizing models."
   ]
  },
  {
   "cell_type": "code",
   "execution_count": 5,
   "id": "58e6e57f",
   "metadata": {},
   "outputs": [
    {
     "name": "stdout",
     "output_type": "stream",
     "text": [
      "r2\n",
      "rmse\n",
      "mape\n",
      "mae\n"
     ]
    }
   ],
   "source": [
    "from scalecast.Forecaster import _metrics_\n",
    "print(*_metrics_,sep='\\n')"
   ]
  },
  {
   "cell_type": "markdown",
   "id": "6ef0abfa",
   "metadata": {},
   "source": [
    "## `_determine_best_by_`\n",
    "- These are all the metrics available to use for model comparison and sorting models best-to-worst `f.export(determine_best_by=...)`\n",
    "- The difference between normal metrics (`TestSetMAPE`) and level metrics has to do with the ability of the Forecaster object to take a first difference on series before modeling. If a first difference has been taken on a given series, these will provide different values. Otherwise, they are the same."
   ]
  },
  {
   "cell_type": "code",
   "execution_count": 6,
   "id": "61da8d1c",
   "metadata": {},
   "outputs": [
    {
     "name": "stdout",
     "output_type": "stream",
     "text": [
      "TestSetRMSE\n",
      "TestSetMAPE\n",
      "TestSetMAE\n",
      "TestSetR2\n",
      "InSampleRMSE\n",
      "InSampleMAPE\n",
      "InSampleMAE\n",
      "InSampleR2\n",
      "LevelInSampleRMSE\n",
      "LevelInSampleMAPE\n",
      "LevelInSampleMAE\n",
      "LevelInSampleR2\n",
      "ValidationMetricValue\n",
      "LevelTestSetRMSE\n",
      "LevelTestSetMAPE\n",
      "LevelTestSetMAE\n",
      "LevelTestSetR2\n"
     ]
    }
   ],
   "source": [
    "from scalecast.Forecaster import _determine_best_by_\n",
    "print(*_determine_best_by_,sep='\\n')"
   ]
  },
  {
   "cell_type": "markdown",
   "id": "b0dd2a79",
   "metadata": {},
   "source": [
    "## `_normalizer_`\n",
    "- these are all the options to scale your data when using an sklearn estimator `f.manual_forecast(normalizer=...)`:"
   ]
  },
  {
   "cell_type": "code",
   "execution_count": 7,
   "id": "905f8843",
   "metadata": {},
   "outputs": [
    {
     "name": "stdout",
     "output_type": "stream",
     "text": [
      "minmax\n",
      "normalize\n",
      "scale\n",
      "None\n"
     ]
    }
   ],
   "source": [
    "from scalecast.Forecaster import _normalizer_\n",
    "print(*_normalizer_,sep='\\n')"
   ]
  },
  {
   "cell_type": "markdown",
   "id": "9794b0f4",
   "metadata": {},
   "source": [
    "## `_optimizer_funcs_`\n",
    "- These are the functions you can use to optimize models in `MVForecaster` only.\n",
    "- This means that if you use the `\"mean\"` option, which is the object's default, when tuning models, it will choose the best one based on which metric had the best average performance on all series\n",
    "- You can add your own functions by calling `add_optimizer_func()`: see the [docs](https://scalecast.readthedocs.io/en/latest/Forecaster/MVForecaster.html#src.scalecast.MVForecaster.MVForecaster.add_optimizer_func)."
   ]
  },
  {
   "cell_type": "code",
   "execution_count": 8,
   "id": "d65a1c34",
   "metadata": {},
   "outputs": [
    {
     "name": "stdout",
     "output_type": "stream",
     "text": [
      "mean\n",
      "min\n",
      "max\n"
     ]
    }
   ],
   "source": [
    "from scalecast.MVForecaster import _optimizer_funcs_\n",
    "print(*_optimizer_funcs_,sep='\\n')"
   ]
  },
  {
   "cell_type": "code",
   "execution_count": null,
   "id": "999239e8",
   "metadata": {},
   "outputs": [],
   "source": []
  }
 ],
 "metadata": {
  "kernelspec": {
   "display_name": "Python 3",
   "language": "python",
   "name": "python3"
  },
  "language_info": {
   "codemirror_mode": {
    "name": "ipython",
    "version": 3
   },
   "file_extension": ".py",
   "mimetype": "text/x-python",
   "name": "python",
   "nbconvert_exporter": "python",
   "pygments_lexer": "ipython3",
   "version": "3.8.8"
  },
  "widgets": {
   "application/vnd.jupyter.widget-state+json": {
    "state": {},
    "version_major": 2,
    "version_minor": 0
   }
  }
 },
 "nbformat": 4,
 "nbformat_minor": 5
}
